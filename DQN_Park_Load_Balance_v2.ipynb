{
 "cells": [
  {
   "cell_type": "code",
   "execution_count": 1,
   "metadata": {},
   "outputs": [],
   "source": [
    "import sys\n",
    "sys.path.append(\"/Users/ratnadeepb/research/park\")"
   ]
  },
  {
   "cell_type": "code",
   "execution_count": 2,
   "metadata": {},
   "outputs": [],
   "source": [
    "import numpy as np\n",
    "import random\n",
    "# from IPython.display import clear_output\n",
    "from collections import deque\n",
    "import progressbar\n",
    "\n",
    "import tensorflow as tf\n",
    "from tensorflow.keras import Model, Sequential\n",
    "from tensorflow.keras.layers import Dense, Reshape, Input\n",
    "from tensorflow.keras.optimizers import Adam\n",
    "import park"
   ]
  },
  {
   "cell_type": "code",
   "execution_count": 3,
   "metadata": {},
   "outputs": [],
   "source": [
    "# default floatx is float32\n",
    "# to change individual layer type add `dtype=float64` to layer constructor\n",
    "tf.keras.backend.set_floatx('float64') # change all layer default output to float64; default is float32"
   ]
  },
  {
   "cell_type": "code",
   "execution_count": 4,
   "metadata": {},
   "outputs": [
    {
     "name": "stderr",
     "output_type": "stream",
     "text": [
      "INFO:root:Making new env load_balance\n"
     ]
    },
    {
     "name": "stdout",
     "output_type": "stream",
     "text": [
      "Number of states: 11\n",
      "Number of actions: 10\n"
     ]
    }
   ],
   "source": [
    "env = park.make(\"load_balance\")\n",
    "print('Number of states: {}'.format(env.observation_space.shape[0]))\n",
    "print('Number of actions: {}'.format(env.action_space.n))"
   ]
  },
  {
   "cell_type": "code",
   "execution_count": 36,
   "metadata": {},
   "outputs": [],
   "source": [
    "class Agent:\n",
    "    def __init__(self, env, optimizer):\n",
    "        \n",
    "        # Initialize atributes\n",
    "        self._state_size = env.observation_space.shape\n",
    "#         self._state_size = env.observation_space.shape\n",
    "        self._action_size = env.action_space.n\n",
    "        self._optimizer = optimizer\n",
    "        \n",
    "        self.expirience_replay = deque(maxlen=2000)\n",
    "        \n",
    "        # Initialize discount and exploration rate\n",
    "        self.gamma = 0.6\n",
    "        self.epsilon = 0.1\n",
    "        \n",
    "        # Build networks\n",
    "        self.q_network = self._build_compile_model()\n",
    "        self.target_network = self._build_compile_model()\n",
    "        self.align_target_model()\n",
    "\n",
    "    def store(self, state, action, reward, next_state, terminated):\n",
    "        # Store experience\n",
    "        self.expirience_replay.append((state, action, reward, next_state, terminated))\n",
    "    \n",
    "    def _build_compile_model(self):\n",
    "        # Create the model\n",
    "        # a feedforward network\n",
    "        model = Sequential()\n",
    "        model.add(Input(env.observation_space.shape)) # prepare the data for the feedforward network\n",
    "        model.add(Dense(30, activation='relu'))\n",
    "#         model.add(Dense(50, activation='relu', input_shape=self._state_size))\n",
    "        model.add(Dense(30, activation='relu'))\n",
    "        model.add(Dense(self._action_size, activation='linear'))\n",
    "        \n",
    "        # Configure a model for mean-squared error regression.\n",
    "        model.compile(loss='mse', optimizer=self._optimizer, metrics=['mae'])\n",
    "        return model\n",
    "\n",
    "    def align_target_model(self):\n",
    "        self.target_network.set_weights(self.q_network.get_weights())\n",
    "    \n",
    "    def act(self, state):\n",
    "        if np.random.rand() <= self.epsilon:\n",
    "            # Explore\n",
    "            return env.action_space.sample()\n",
    "        # greedy action\n",
    "        q_values = self.q_network.predict(state.reshape(1, 11))\n",
    "        return np.argmax(q_values[0])\n",
    "\n",
    "    def retrain(self, batch_size):\n",
    "        # pick random samples from experience memory and train the network\n",
    "        minibatch = random.sample(self.expirience_replay, batch_size)\n",
    "        \n",
    "        for state, action, reward, next_state, terminated in minibatch:\n",
    "            \n",
    "            target = self.q_network.predict(state.reshape(1, 11))\n",
    "            \n",
    "            if terminated:\n",
    "                target[0][action] = reward\n",
    "            else:\n",
    "                t = self.target_network.predict(next_state.reshape(1, 11))\n",
    "                target[0][action] = reward + self.gamma * np.amax(t)\n",
    "            \n",
    "            self.q_network.fit(state.reshape(1, 11), target, epochs=1, verbose=0)"
   ]
  },
  {
   "cell_type": "code",
   "execution_count": 45,
   "metadata": {},
   "outputs": [
    {
     "name": "stdout",
     "output_type": "stream",
     "text": [
      "Model: \"sequential_12\"\n",
      "_________________________________________________________________\n",
      "Layer (type)                 Output Shape              Param #   \n",
      "=================================================================\n",
      "dense_36 (Dense)             (None, 30)                360       \n",
      "_________________________________________________________________\n",
      "dense_37 (Dense)             (None, 30)                930       \n",
      "_________________________________________________________________\n",
      "dense_38 (Dense)             (None, 10)                310       \n",
      "=================================================================\n",
      "Total params: 1,600\n",
      "Trainable params: 1,600\n",
      "Non-trainable params: 0\n",
      "_________________________________________________________________\n"
     ]
    }
   ],
   "source": [
    "optimizer = Adam(learning_rate=0.01)\n",
    "agent = Agent(env, optimizer)\n",
    "\n",
    "batch_size = 100\n",
    "num_of_episodes = 5\n",
    "timesteps_per_episode = 20\n",
    "agent.q_network.summary()"
   ]
  },
  {
   "cell_type": "code",
   "execution_count": 46,
   "metadata": {},
   "outputs": [
    {
     "name": "stderr",
     "output_type": "stream",
     "text": [
      "[========================================================================] 100%\n",
      "[========================================================================] 100%\n",
      "[========================================================================] 100%\n",
      "[========================================================================] 100%\n",
      "[========================================================================] 100%\n"
     ]
    }
   ],
   "source": [
    "STATES = []\n",
    "REWARDS = []\n",
    "for e in range(num_of_episodes):\n",
    "    # Reset the env\n",
    "    state = env.reset()\n",
    "    \n",
    "    # Initialize variables\n",
    "    reward = 0\n",
    "    terminated = False\n",
    "    \n",
    "    bar = progressbar.ProgressBar(maxval=timesteps_per_episode/10, widgets=[progressbar.Bar('=', '[', ']'), ' ', progressbar.Percentage()])\n",
    "    bar.start()\n",
    "    \n",
    "    for timestep in range(timesteps_per_episode):\n",
    "        # Run Action\n",
    "        action = agent.act(state)\n",
    "        \n",
    "        # Take action    \n",
    "        # step() is a function provided by OpenAIGym to step through the environment\n",
    "        # the step function provides if episode has terminated\n",
    "        next_state, reward, terminated, info = env.step(action)\n",
    "        REWARDS.append(reward)\n",
    "        agent.store(state, action, reward, next_state, terminated)\n",
    "        \n",
    "        state = next_state\n",
    "        \n",
    "        STATES.append(state) # store all steps\n",
    "        \n",
    "        if terminated:\n",
    "            agent.align_target_model()\n",
    "            break\n",
    "            \n",
    "        if len(agent.expirience_replay) > batch_size:\n",
    "            agent.retrain(batch_size)\n",
    "        \n",
    "        if timestep%10 == 0:\n",
    "            bar.update(timestep/10 + 1)\n",
    "    \n",
    "    bar.finish()\n",
    "    if (e + 1) % 10 == 0:\n",
    "        print(\"**********************************\")\n",
    "        print(\"Episode: {}\".format(e + 1))\n",
    "#         env.render()\n",
    "        print(\"**********************************\")"
   ]
  },
  {
   "cell_type": "code",
   "execution_count": 47,
   "metadata": {},
   "outputs": [
    {
     "data": {
      "text/plain": [
       "(array([[6.26720386e-195, 2.34217286e-237, 3.71331708e-213,\n",
       "         5.79759048e-315, 2.74089289e-089, 4.20123676e-007,\n",
       "         9.99999580e-001, 2.38066992e-277, 6.39507848e-268,\n",
       "         1.43913942e-284]]),\n",
       " array([[6.26720386e-195, 2.34217286e-237, 3.71331708e-213,\n",
       "         5.79759048e-315, 2.74089289e-089, 4.20123676e-007,\n",
       "         9.99999580e-001, 2.38066992e-277, 6.39507848e-268,\n",
       "         1.43913942e-284]]),\n",
       " 6)"
      ]
     },
     "execution_count": 47,
     "metadata": {},
     "output_type": "execute_result"
    }
   ],
   "source": [
    "predictions = agent.target_network.predict(state.reshape(1, 11))\n",
    "tf.nn.softmax(predictions).numpy(), tf.nn.softmax(predictions).numpy(), np.argmax(tf.nn.softmax(predictions).numpy())"
   ]
  },
  {
   "cell_type": "code",
   "execution_count": 48,
   "metadata": {},
   "outputs": [
    {
     "data": {
      "text/plain": [
       "(-458.57, 641.2627270471909, -4751.0, -240.0)"
      ]
     },
     "execution_count": 48,
     "metadata": {},
     "output_type": "execute_result"
    }
   ],
   "source": [
    "np.mean(np.array(REWARDS)), np.std(np.array(REWARDS)), np.min(np.array(REWARDS)), reward"
   ]
  },
  {
   "cell_type": "code",
   "execution_count": 10,
   "metadata": {},
   "outputs": [],
   "source": [
    "STATES = np.array(STATES)"
   ]
  },
  {
   "cell_type": "code",
   "execution_count": 11,
   "metadata": {},
   "outputs": [],
   "source": [
    "means = [STATES[:, i].mean() for i in range(STATES.shape[1] - 1)]"
   ]
  },
  {
   "cell_type": "code",
   "execution_count": 12,
   "metadata": {},
   "outputs": [],
   "source": [
    "std = [STATES[:, i].std() for i in range(STATES.shape[1] - 1)]"
   ]
  },
  {
   "cell_type": "code",
   "execution_count": 13,
   "metadata": {},
   "outputs": [
    {
     "data": {
      "text/plain": [
       "[<matplotlib.lines.Line2D at 0xa406caa90>]"
      ]
     },
     "execution_count": 13,
     "metadata": {},
     "output_type": "execute_result"
    },
    {
     "data": {
      "image/png": "[encoded data removed]",
      "text/plain": [
       "<Figure size 432x288 with 1 Axes>"
      ]
     },
     "metadata": {
      "needs_background": "light"
     },
     "output_type": "display_data"
    }
   ],
   "source": [
    "import matplotlib.pyplot as plt\n",
    "\n",
    "plt.plot([i for i in range(10)], means)\n",
    "plt.plot([i for i in range(10)], std)"
   ]
  },
  {
   "cell_type": "code",
   "execution_count": 20,
   "metadata": {},
   "outputs": [
    {
     "data": {
      "text/plain": [
       "[array([  0.,   0.,   0.,   0.,   0.,   0.,   0.,  82.,   0.,   0., 259.]),\n",
       " array([  0.,   0.,   0.,   0., 433.,   0.,   0.,  45.,   0.,   0., 267.]),\n",
       " array([  0.,   0.,   0.,   0., 403.,   0., 326.,  15.,   0.,   0., 163.]),\n",
       " array([  0.,   0.,   0., 356., 397.,   0., 320.,   9.,   0.,   0., 101.]),\n",
       " array([  0.,   0.,   0., 402., 342.,   0., 265.,   0.,   0.,   0., 102.]),\n",
       " array([  0.,   0.,   0., 465., 303.,   0., 226.,   0.,   0.,   0., 128.]),\n",
       " array([  0.,   0.,   0., 578., 288.,   0., 211.,   0.,   0.,   0., 489.]),\n",
       " array([  0.,   0.,   0., 990., 211.,   0., 134.,   0.,   0.,   0., 142.]),\n",
       " array([   0.,    0.,    0., 1128.,  207.,    0.,  130.,    0.,    0.,\n",
       "           0.,  118.]),\n",
       " array([   0.,    0.,    0., 1237.,  198.,    0.,  121.,    0.,    0.,\n",
       "           0.,  125.]),\n",
       " array([  0.,   0.,   0.,   0.,   0.,   0.,   0., 578.,   0.,   0., 195.]),\n",
       " array([  0.,   0., 546.,   0.,   0.,   0.,   0., 567.,   0.,   0., 296.]),\n",
       " array([   0., 1142.,  504.,    0.,    0.,    0.,    0.,  525.,    0.,\n",
       "           0.,  442.]),\n",
       " array([   0., 1018.,  380.,  858.,    0.,    0.,    0.,  401.,    0.,\n",
       "           0.,  299.]),\n",
       " array([   0., 1012.,  374., 1151.,    0.,    0.,    0.,  395.,    0.,\n",
       "           0.,  129.]),\n",
       " array([   0.,  982.,  344., 1250.,    0.,    0.,    0.,  365.,    0.,\n",
       "           0.,  118.]),\n",
       " array([   0.,  874.,  236., 1260.,    0.,    0.,    0.,  257.,    0.,\n",
       "           0.,  311.]),\n",
       " array([   0.,  835.,  197., 1532.,    0.,    0.,    0.,  218.,    0.,\n",
       "           0.,  100.]),\n",
       " array([   0.,  822.,  184., 1619.,    0.,    0.,    0.,  205.,    0.,\n",
       "           0.,  143.]),\n",
       " array([   0.,  800.,  162., 1740.,    0.,    0.,    0.,  183.,    0.,\n",
       "           0.,  108.])]"
      ]
     },
     "execution_count": 20,
     "metadata": {},
     "output_type": "execute_result"
    }
   ],
   "source": [
    "STATES"
   ]
  },
  {
   "cell_type": "code",
   "execution_count": null,
   "metadata": {},
   "outputs": [],
   "source": []
  }
 ],
 "metadata": {
  "kernelspec": {
   "display_name": "Python 3",
   "language": "python",
   "name": "python3"
  },
  "language_info": {
   "codemirror_mode": {
    "name": "ipython",
    "version": 3
   },
   "file_extension": ".py",
   "mimetype": "text/x-python",
   "name": "python",
   "nbconvert_exporter": "python",
   "pygments_lexer": "ipython3",
   "version": "3.7.7"
  }
 },
 "nbformat": 4,
 "nbformat_minor": 4
}
